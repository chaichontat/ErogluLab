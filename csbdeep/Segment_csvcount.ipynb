{
 "cells": [
  {
   "cell_type": "code",
   "execution_count": null,
   "metadata": {
    "deletable": false,
    "editable": false
   },
   "outputs": [],
   "source": [
    "\"\"\"\n",
    "Count row of each file, grouped by axis, and output to csv.\n",
    "\"\"\"\n",
    "\n",
    "import tkinter as tk\n",
    "\n",
    "from pathlib import Path\n",
    "from tkinter import filedialog\n",
    "\n",
    "import pandas as pd\n",
    "from IPython import get_ipython\n",
    "\n",
    "get_ipython().run_line_magic(\"gui\", \"tk\")\n",
    "root = tk.Tk()\n",
    "root.withdraw()\n",
    "root.call(\"wm\", \"attributes\", \".\", \"-topmost\", True)\n",
    "\n",
    "\n",
    "def prepare_df(directory: Path) -> pd.DataFrame:\n",
    "    df = pd.concat(\n",
    "        [\n",
    "            pd.read_csv(directory / file).assign(file=file.name)\n",
    "            for file in directory.iterdir()\n",
    "            if file.suffix == \".csv\" and not file.name == \"output.csv\"\n",
    "        ]\n",
    "    ).rename(columns={\" \": \"cell\"})\n",
    "\n",
    "    df[\"file\"] = df[\"file\"].astype(\"category\")\n",
    "    return df[[(u := df.columns.tolist())[-1]] + u[:-1]]\n",
    "\n",
    "\n",
    "directory = Path(filedialog.askdirectory(title=\"Choose folder directory\"))\n",
    "\n",
    "axis = input(\n",
    "    \"Axis to segment by, X or Y need to be capitalized. Left blank if not going to segment. \"\n",
    ")\n",
    "\n",
    "if axis == \"\":\n",
    "    segment = 0\n",
    "else:\n",
    "    segment = int(input(\"Enter the `width` of each layer. \"))\n",
    "\n",
    "\n",
    "df = prepare_df(directory)\n",
    "\n",
    "if segment == 0:\n",
    "    df[\"layer\"] = 0\n",
    "else:\n",
    "    vals = df[axis] - df[axis].min()\n",
    "    df[\"layer\"] = (vals // segment).astype(int).astype(\"category\")\n",
    "\n",
    "df = df.groupby([\"file\", \"layer\"]).size().reset_index()\n",
    "df = df.pivot(index=\"file\", columns=\"layer\", values=0)\n",
    "\n",
    "df.to_csv(directory / \"output.csv\")\n",
    "\n",
    "print(\"Done!\")"
   ]
  },
  {
   "cell_type": "code",
   "execution_count": null,
   "metadata": {},
   "outputs": [],
   "source": []
  }
 ],
 "metadata": {
  "kernelspec": {
   "display_name": "Python 3",
   "language": "python",
   "name": "python3"
  },
  "language_info": {
   "codemirror_mode": {
    "name": "ipython",
    "version": 3
   },
   "file_extension": ".py",
   "mimetype": "text/x-python",
   "name": "python",
   "nbconvert_exporter": "python",
   "pygments_lexer": "ipython3",
   "version": "3.8.5"
  }
 },
 "nbformat": 4,
 "nbformat_minor": 4
}
